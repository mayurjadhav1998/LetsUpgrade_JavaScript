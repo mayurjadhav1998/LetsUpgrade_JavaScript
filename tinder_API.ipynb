{
  "nbformat": 4,
  "nbformat_minor": 0,
  "metadata": {
    "colab": {
      "name": "tinder API.ipynb",
      "provenance": [],
      "authorship_tag": "ABX9TyNjjQmNxu9Tqou74bGiqrfi",
      "include_colab_link": true
    },
    "kernelspec": {
      "name": "python3",
      "display_name": "Python 3"
    },
    "language_info": {
      "name": "python"
    }
  },
  "cells": [
    {
      "cell_type": "markdown",
      "metadata": {
        "id": "view-in-github",
        "colab_type": "text"
      },
      "source": [
        "<a href=\"https://colab.research.google.com/github/mayurjadhav1998/LetsUpgrade_JavaScript/blob/main/tinder_API.ipynb\" target=\"_parent\"><img src=\"https://colab.research.google.com/assets/colab-badge.svg\" alt=\"Open In Colab\"/></a>"
      ]
    },
    {
      "cell_type": "code",
      "metadata": {
        "id": "SIxxQ52PprUM"
      },
      "source": [
        "import firebase_admin\n",
        "from firebase_admin import auth, firestore, storage\n"
      ],
      "execution_count": null,
      "outputs": []
    }
  ]
}